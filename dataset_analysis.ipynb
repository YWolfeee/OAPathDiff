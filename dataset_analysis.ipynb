{
 "cells": [
  {
   "cell_type": "code",
   "execution_count": 1,
   "metadata": {},
   "outputs": [
    {
     "name": "stdout",
     "output_type": "stream",
     "text": [
      "/atlas2/u/haotiany/chempath/OAPathDiff\n"
     ]
    }
   ],
   "source": [
    "%cd ../"
   ]
  },
  {
   "cell_type": "code",
   "execution_count": 2,
   "metadata": {},
   "outputs": [],
   "source": [
    "import pymol\n",
    "from pymol import cmd, stored\n",
    "import imageio\n",
    "\n",
    "import os\n",
    "import numpy as np\n",
    "import scipy\n",
    "import pandas as pd\n",
    "import matplotlib.pyplot as plt\n",
    "import seaborn as sns\n",
    "sns.set_theme()\n"
   ]
  },
  {
   "cell_type": "code",
   "execution_count": 3,
   "metadata": {},
   "outputs": [],
   "source": [
    "# --- Importing and defining some functions ----\n",
    "import torch\n",
    "import py3Dmol\n",
    "import numpy as np\n",
    "\n",
    "from typing import Optional\n",
    "from torch import tensor\n",
    "from e3nn import o3\n",
    "from torch_scatter import scatter_mean\n",
    "\n",
    "from oa_reactdiff.model import LEFTNet\n",
    "\n",
    "default_float = torch.float64\n",
    "torch.set_default_dtype(default_float)  # Use double precision for more accurate testing\n",
    "\n",
    "def map_num_to_ele(atom_lis: list):\n",
    "    map_dict = {1: 'H', 6: 'C', 7: 'N', 8: 'O', 9: 'F'}\n",
    "    return [map_dict[atom] for atom in atom_lis]\n",
    "\n",
    "\n",
    "def remove_mean_batch(\n",
    "    x: tensor, \n",
    "    indices: Optional[tensor] = None\n",
    ") -> tensor:\n",
    "    \"\"\"Remove the mean from each batch in x\n",
    "\n",
    "    Args:\n",
    "        x (tensor): input tensor.\n",
    "        indices (Optional[tensor], optional): batch indices. Defaults to None.\n",
    "\n",
    "    Returns:\n",
    "        tensor: output tensor with batch mean as 0.\n",
    "    \"\"\"\n",
    "    if indices == None:\n",
    "         return x - torch.mean(x, dim=0)\n",
    "    mean = scatter_mean(x, indices, dim=0)\n",
    "    x = x - mean[indices]\n",
    "    return x\n",
    "\n",
    "\n",
    "def draw_in_3dmol(mol: str, fmt: str = \"xyz\") -> py3Dmol.view:\n",
    "    \"\"\"Draw the molecule\n",
    "\n",
    "    Args:\n",
    "        mol (str): str content of molecule.\n",
    "        fmt (str, optional): format. Defaults to \"xyz\".\n",
    "\n",
    "    Returns:\n",
    "        py3Dmol.view: output viewer\n",
    "    \"\"\"\n",
    "    viewer = py3Dmol.view(1024, 576)\n",
    "    viewer.addModel(mol, fmt)\n",
    "    viewer.setStyle({'stick': {}, \"sphere\": {\"radius\": 0.36}})\n",
    "    viewer.zoomTo()\n",
    "    return viewer\n",
    "\n",
    "\n",
    "def assemble_xyz(z: list, pos: tensor) -> str:\n",
    "    \"\"\"Assembling atomic numbers and positions into xyz format\n",
    "\n",
    "    Args:\n",
    "        z (list): chemical elements\n",
    "        pos (tensor): 3D coordinates\n",
    "\n",
    "    Returns:\n",
    "        str: xyz string\n",
    "    \"\"\"\n",
    "    natoms =len(z)\n",
    "    xyz = f\"{natoms}\\n\\n\"\n",
    "    for _z, _pos in zip(z, pos):\n",
    "        xyz += f\"{_z}\\t\" + \"\\t\".join([str(x) for x in _pos]) + \"\\n\"\n",
    "    return xyz\n",
    "\n",
    "from scipy.linalg import svd\n",
    "\n",
    "def calculate_rmsd(A, B, allow_change = True):\n",
    "    # 质心计算\n",
    "    if not allow_change:\n",
    "        return np.sqrt(np.mean(np.linalg.norm(A - B, axis=1) ** 2))\n",
    "    centroid_A = np.mean(A, axis=0)\n",
    "    centroid_B = np.mean(B, axis=0)\n",
    "    \n",
    "    # 中心化坐标\n",
    "    A_centered = A - centroid_A\n",
    "    B_centered = B - centroid_B\n",
    "    \n",
    "    # 构造协方差矩阵\n",
    "    H = np.dot(A_centered.T, B_centered)\n",
    "    \n",
    "    # SVD 分解\n",
    "    U, S, Vt = svd(H)\n",
    "    \n",
    "    # 计算旋转矩阵\n",
    "    d = (np.linalg.det(U) * np.linalg.det(Vt)) < 0.0\n",
    "    if d:\n",
    "        S[-1] = -S[-1]\n",
    "        U[:, -1] = -U[:, -1]\n",
    "    rotation_matrix = np.dot(Vt.T, U.T)\n",
    "    \n",
    "    # 应用旋转\n",
    "    A_rotated = np.dot(A_centered, rotation_matrix)\n",
    "    \n",
    "    # 计算 RMSD\n",
    "    rmsd = np.sqrt(np.mean(np.linalg.norm(A_rotated - B_centered, axis=1) ** 2))\n",
    "    return rmsd"
   ]
  },
  {
   "cell_type": "code",
   "execution_count": 4,
   "metadata": {},
   "outputs": [
    {
     "data": {
      "text/plain": [
       "(10073,\n",
       " dict_keys(['rxn', 'wB97x_6-31G(d).energy', 'wB97x_6-31G(d).atomization_energy', 'wB97x_6-31G(d).forces', 'positions', 'formula', 'atomic_numbers']))"
      ]
     },
     "execution_count": 4,
     "metadata": {},
     "output_type": "execute_result"
    }
   ],
   "source": [
    "\n",
    "\n",
    "# dataset = np.load('oa_reactdiff/data/path/ts1x_rxn_neb_structures.pkl', allow_pickle=True)\n",
    "dataset = np.load('oa_reactdiff/data/path/path_structures.pkl', allow_pickle=True).item()\n",
    "len(dataset),dataset['rxn0000'][0].keys()\n"
   ]
  },
  {
   "cell_type": "code",
   "execution_count": 5,
   "metadata": {},
   "outputs": [],
   "source": [
    "def save_img(mol: str, file_name: str):\n",
    "    # save the molecule to a file\n",
    "\n",
    "    with open(f\"{file_name}.xyz\", 'w') as f:\n",
    "        f.write(mol)\n",
    "        \n",
    "\n",
    "    cmd.reinitialize()\n",
    "    # load the xyz file into pymol\n",
    "    cmd.load(f\"{file_name}.xyz\", 'molecule')\n",
    "\n",
    "    \n",
    "    cmd.hide('everything', 'molecule')\n",
    "    cmd.show('spheres', 'molecule')  # Display as cartoon\n",
    "    cmd.show('sticks', 'molecule')  # Display as cartoon\n",
    "\n",
    "    cmd.set('stick_radius', 0.1)  # Adjust the radius of the sticks\n",
    "    cmd.set('sphere_scale', 0.15)   # Adjust the size of the spheres\n",
    "    cmd.png(f\"{file_name}.png\")\n",
    "\n",
    "    # delete the xyz file\n",
    "    os.remove(f\"{file_name}.xyz\")"
   ]
  },
  {
   "cell_type": "code",
   "execution_count": 6,
   "metadata": {},
   "outputs": [
    {
     "data": {
      "text/plain": [
       "((171,), 58.90643274853801, 447, 1)"
      ]
     },
     "execution_count": 6,
     "metadata": {},
     "output_type": "execute_result"
    }
   ],
   "source": [
    "formula = [w[0]['formula'] for w in dataset.values()]\n",
    "\n",
    "# count unique string in formula and their appearance\n",
    "molecules, counts = np.unique(formula, return_counts=True)\n",
    "num_molecules = {molecule: count for molecule, count in zip(molecules, counts)}\n",
    "\n",
    "molecules.shape, counts.mean(), counts.max(), counts.min()"
   ]
  },
  {
   "cell_type": "code",
   "execution_count": 7,
   "metadata": {},
   "outputs": [
    {
     "data": {
      "text/plain": [
       "{1, 6, 7, 8}"
      ]
     },
     "execution_count": 7,
     "metadata": {},
     "output_type": "execute_result"
    }
   ],
   "source": [
    "# understand atom types\n",
    "sets = [set(w[0]['atomic_numbers']) for w in dataset.values()]\n",
    "\n",
    "# union of all atom types\n",
    "all_atom_types = set.union(*sets)\n",
    "all_atom_types"
   ]
  },
  {
   "cell_type": "code",
   "execution_count": 8,
   "metadata": {},
   "outputs": [
    {
     "data": {
      "text/plain": [
       "(4, 23, 13.052631578947368)"
      ]
     },
     "execution_count": 8,
     "metadata": {},
     "output_type": "execute_result"
    },
    {
     "data": {
      "image/png": "[encoded data removed]",
      "text/plain": [
       "<Figure size 640x480 with 1 Axes>"
      ]
     },
     "metadata": {},
     "output_type": "display_data"
    }
   ],
   "source": [
    "num_atom_lis = [len(w[0]['atomic_numbers']) for w in dataset.values()]\n",
    "ks, vs = np.unique(num_atom_lis, return_counts=True)\n",
    "num_atoms = {k: v for k, v in zip(ks, vs)}\n",
    "plt.bar(num_atoms.keys(), num_atoms.values())\n",
    "ks.min(), ks.max(), ks.mean()"
   ]
  },
  {
   "cell_type": "code",
   "execution_count": 46,
   "metadata": {},
   "outputs": [
    {
     "name": "stdout",
     "output_type": "stream",
     "text": [
      "10026 23 rxn8742\n"
     ]
    },
    {
     "data": {
      "application/3dmoljs_load.v0": "<div id=\"3dmolviewer_1714434040205705\"  style=\"position: relative; width: 576px; height: 480px;\">\n        <p id=\"3dmolwarning_1714434040205705\" style=\"background-color:#ffcccc;color:black\">3Dmol.js failed to load for some reason.  Please check your browser console for error messages.<br></p>\n        </div>\n<script>\n\nvar loadScriptAsync = function(uri){\n  return new Promise((resolve, reject) => {\n    //this is to ignore the existence of requirejs amd\n    var savedexports, savedmodule;\n    if (typeof exports !== 'undefined') savedexports = exports;\n    else exports = {}\n    if (typeof module !== 'undefined') savedmodule = module;\n    else module = {}\n\n    var tag = document.createElement('script');\n    tag.src = uri;\n    tag.async = true;\n    tag.onload = () => {\n        exports = savedexports;\n        module = savedmodule;\n        resolve();\n    };\n  var firstScriptTag = document.getElementsByTagName('script')[0];\n  firstScriptTag.parentNode.insertBefore(tag, firstScriptTag);\n});\n};\n\nif(typeof $3Dmolpromise === 'undefined') {\n$3Dmolpromise = null;\n  $3Dmolpromise = loadScriptAsync('https://cdnjs.cloudflare.com/ajax/libs/3Dmol/2.1.0/3Dmol-min.js');\n}\n\nvar viewer_1714434040205705 = null;\nvar warn = document.getElementById(\"3dmolwarning_1714434040205705\");\nif(warn) {\n    warn.parentNode.removeChild(warn);\n}\n$3Dmolpromise.then(function() {\nviewer_1714434040205705 = $3Dmol.createViewer(document.getElementById(\"3dmolviewer_1714434040205705\"),{backgroundColor:\"white\"});\n$3Dmol.download(\"1024\", viewer_1714434040205705, {}, function() {\nviewer_1714434040205705.zoomTo();\n\tviewer_1714434040205705.addModel(\"17\\n\\nC\\t-2.2431576676692644\\t0.263183137025032\\t0.5893707482311371\\nC\\t-0.8684001473308158\\t-0.03043905826819393\\t0.07871952186538987\\nC\\t-0.4146733615861605\\t-1.0130107880245764\\t-0.9475869762074302\\nC\\t2.5499876439622127\\t0.4670622832271294\\t-0.7364472390147565\\nC\\t1.5337669550750113\\t1.0656739257690142\\t-0.12237447640614021\\nC\\t0.4655387139729841\\t0.35975829140410864\\t0.6516826607718268\\nC\\t0.10912570427176302\\t-1.078048315578897\\t0.45447265187565805\\nH\\t-2.910086166696933\\t-0.5904444879928757\\t0.42329609308635935\\nH\\t-2.220783180950591\\t0.4718642666764952\\t1.6651704074153995\\nH\\t-2.689234206061999\\t1.1317353373894337\\t0.09297318663020937\\nH\\t-1.1462682789722058\\t-1.7743287783850668\\t-1.2198788033777466\\nH\\t0.2414405854369893\\t-0.7150476727502899\\t-1.766327080296655\\nH\\t3.292393013073575\\t1.0258647505473448\\t-1.3006257215398602\\nH\\t2.672133497510014\\t-0.612988760938136\\t-0.6933058342706307\\nH\\t1.4382947502363899\\t2.1511627852739577\\t-0.17118851547969316\\nH\\t0.3819003285100635\\t0.7086691585118657\\t1.6860926070702469\\nH\\t-0.0007086993196963715\\t-1.8657233456588582\\t1.1877503765584716\\n\",\"xyz\");\n\tviewer_1714434040205705.setStyle({\"stick\": {}, \"sphere\": {\"radius\": 0.36}});\n\tviewer_1714434040205705.zoomTo();\nviewer_1714434040205705.render();\n})\n});\n</script>",
      "text/html": [
       "<div id=\"3dmolviewer_1714434040205705\"  style=\"position: relative; width: 576px; height: 480px;\">\n",
       "        <p id=\"3dmolwarning_1714434040205705\" style=\"background-color:#ffcccc;color:black\">3Dmol.js failed to load for some reason.  Please check your browser console for error messages.<br></p>\n",
       "        </div>\n",
       "<script>\n",
       "\n",
       "var loadScriptAsync = function(uri){\n",
       "  return new Promise((resolve, reject) => {\n",
       "    //this is to ignore the existence of requirejs amd\n",
       "    var savedexports, savedmodule;\n",
       "    if (typeof exports !== 'undefined') savedexports = exports;\n",
       "    else exports = {}\n",
       "    if (typeof module !== 'undefined') savedmodule = module;\n",
       "    else module = {}\n",
       "\n",
       "    var tag = document.createElement('script');\n",
       "    tag.src = uri;\n",
       "    tag.async = true;\n",
       "    tag.onload = () => {\n",
       "        exports = savedexports;\n",
       "        module = savedmodule;\n",
       "        resolve();\n",
       "    };\n",
       "  var firstScriptTag = document.getElementsByTagName('script')[0];\n",
       "  firstScriptTag.parentNode.insertBefore(tag, firstScriptTag);\n",
       "});\n",
       "};\n",
       "\n",
       "if(typeof $3Dmolpromise === 'undefined') {\n",
       "$3Dmolpromise = null;\n",
       "  $3Dmolpromise = loadScriptAsync('https://cdnjs.cloudflare.com/ajax/libs/3Dmol/2.1.0/3Dmol-min.js');\n",
       "}\n",
       "\n",
       "var viewer_1714434040205705 = null;\n",
       "var warn = document.getElementById(\"3dmolwarning_1714434040205705\");\n",
       "if(warn) {\n",
       "    warn.parentNode.removeChild(warn);\n",
       "}\n",
       "$3Dmolpromise.then(function() {\n",
       "viewer_1714434040205705 = $3Dmol.createViewer(document.getElementById(\"3dmolviewer_1714434040205705\"),{backgroundColor:\"white\"});\n",
       "$3Dmol.download(\"1024\", viewer_1714434040205705, {}, function() {\n",
       "viewer_1714434040205705.zoomTo();\n",
       "\tviewer_1714434040205705.addModel(\"17\\n\\nC\\t-2.2431576676692644\\t0.263183137025032\\t0.5893707482311371\\nC\\t-0.8684001473308158\\t-0.03043905826819393\\t0.07871952186538987\\nC\\t-0.4146733615861605\\t-1.0130107880245764\\t-0.9475869762074302\\nC\\t2.5499876439622127\\t0.4670622832271294\\t-0.7364472390147565\\nC\\t1.5337669550750113\\t1.0656739257690142\\t-0.12237447640614021\\nC\\t0.4655387139729841\\t0.35975829140410864\\t0.6516826607718268\\nC\\t0.10912570427176302\\t-1.078048315578897\\t0.45447265187565805\\nH\\t-2.910086166696933\\t-0.5904444879928757\\t0.42329609308635935\\nH\\t-2.220783180950591\\t0.4718642666764952\\t1.6651704074153995\\nH\\t-2.689234206061999\\t1.1317353373894337\\t0.09297318663020937\\nH\\t-1.1462682789722058\\t-1.7743287783850668\\t-1.2198788033777466\\nH\\t0.2414405854369893\\t-0.7150476727502899\\t-1.766327080296655\\nH\\t3.292393013073575\\t1.0258647505473448\\t-1.3006257215398602\\nH\\t2.672133497510014\\t-0.612988760938136\\t-0.6933058342706307\\nH\\t1.4382947502363899\\t2.1511627852739577\\t-0.17118851547969316\\nH\\t0.3819003285100635\\t0.7086691585118657\\t1.6860926070702469\\nH\\t-0.0007086993196963715\\t-1.8657233456588582\\t1.1877503765584716\\n\",\"xyz\");\n",
       "\tviewer_1714434040205705.setStyle({\"stick\": {}, \"sphere\": {\"radius\": 0.36}});\n",
       "\tviewer_1714434040205705.zoomTo();\n",
       "viewer_1714434040205705.render();\n",
       "})\n",
       "});\n",
       "</script>"
      ]
     },
     "metadata": {},
     "output_type": "display_data"
    }
   ],
   "source": [
    "idx = np.argmax(num_atom_lis)\n",
    "print(idx, num_atom_lis[idx], list(dataset.keys())[idx])\n",
    "# find the molecule with the most atoms\n",
    "# frame = dataset['rxn8742'][1]\n",
    "frame = dataset['rxn10070'][0]   # 0006 is a very smooth example\n",
    "# 10071 is great as well\n",
    "pos = frame['positions']\n",
    "\n",
    "# map atomic_number to element\n",
    "atomic_number = frame['atomic_numbers']\n",
    "\n",
    "tmp = assemble_xyz(map_num_to_ele(frame['atomic_numbers']), pos)\n",
    "a = draw_in_3dmol(tmp)\n",
    "a.show()"
   ]
  },
  {
   "cell_type": "code",
   "execution_count": 9,
   "metadata": {},
   "outputs": [
    {
     "name": "stderr",
     "output_type": "stream",
     "text": [
      "/tmp/user/23218/ipykernel_2167240/3899373666.py:10: DeprecationWarning: Starting with ImageIO v3 the behavior of this function will switch to that of iio.v3.imread. To keep the current behavior (and make this warning disappear) use `import imageio.v2 as imageio` or call `imageio.v2.imread` directly.\n",
      "  images = [imageio.imread(f'temp_images/{name}/{i}.png') for i in range(10)]\n"
     ]
    }
   ],
   "source": [
    "name = 'rxn10071'\n",
    "traj = dataset[name]\n",
    "os.makedirs(f'temp_images/{name}', exist_ok=True)\n",
    "for i in range(10):\n",
    "    frame = traj[i]\n",
    "    tmp = assemble_xyz(map_num_to_ele(frame['atomic_numbers']), frame['positions'])\n",
    "    save_img(tmp, f'temp_images/{name}/{i}')\n",
    "\n",
    "# --- Generate a gif ---\n",
    "images = [imageio.imread(f'temp_images/{name}/{i}.png') for i in range(10)]\n",
    "imageio.mimsave(f'temp_images/traj_{name}.gif', images, duration=5, loop=0)\n",
    "\n",
    "import time\n",
    "time.sleep(0.01)\n",
    "# delete all png files\n",
    "[os.remove(f'temp_images/{name}/{i}.png') for i in range(10)]\n",
    "os.removedirs(f'temp_images/{name}')"
   ]
  },
  {
   "cell_type": "code",
   "execution_count": 33,
   "metadata": {},
   "outputs": [
    {
     "data": {
      "text/plain": [
       "<Axes: >"
      ]
     },
     "execution_count": 33,
     "metadata": {},
     "output_type": "execute_result"
    },
    {
     "data": {
      "image/png": "[encoded data removed]",
      "text/plain": [
       "<Figure size 640x480 with 2 Axes>"
      ]
     },
     "metadata": {},
     "output_type": "display_data"
    }
   ],
   "source": [
    "# find the minimum distance between two molecules under possible rotations and translations\n",
    "\n",
    "name = 'rxn8742'\n",
    "\n",
    "def min_rmsd(a, b, allow_change = True):\n",
    "    if not allow_change:\n",
    "        return np.sum((a - b) ** 2)/a.shape[0]\n",
    "    return scipy.spatial.transform.Rotation.align_vectors(a, b)[1]/a.shape[0]\n",
    "\n",
    "# draw a heat map representing the rmsd between frames 0 to 9\n",
    "mat_false, mat_true = np.zeros((10, 10)), np.zeros((10, 10))\n",
    "mats = []\n",
    "for i in range(0, 10000, 10):\n",
    "    name = f'rxn{i:04d}'\n",
    "    mat = np.zeros((10, 10))\n",
    "    for i in range(10):\n",
    "        for j in range(10):\n",
    "            mat_true[i, j] = min_rmsd(dataset[name][i]['positions'], dataset[name][j]['positions'])\n",
    "            # mat_false[i, j] = min_rmsd(dataset[name][i]['positions'], dataset[name][j]['positions'], allow_change=False)\n",
    "    mats.append(mat_true)\n",
    "mat_true = np.mean(mats, axis=0)\n",
    "\n",
    "# print(mat_false)\n",
    "# print(mat_true)\n",
    "# print(mat_false - mat_true)\n",
    "\n",
    "# show the heat map using seaborn\n",
    "sns.heatmap(mat_true, cmap='plasma')\n"
   ]
  },
  {
   "cell_type": "code",
   "execution_count": 25,
   "metadata": {},
   "outputs": [],
   "source": [
    "energies = [[frame['wB97x_6-31G(d).energy'] for frame in traj] for traj in dataset.values()]\n",
    "# plt.plot([frame['wB97x_6-31G(d).atomization_energy'] for frame in traj])\n",
    "# plt.plot([frame['wB97x_6-31G(d).energy'] for frame in traj])\n",
    "energies = np.array(energies)"
   ]
  },
  {
   "cell_type": "code",
   "execution_count": 29,
   "metadata": {},
   "outputs": [
    {
     "data": {
      "text/plain": [
       "[<matplotlib.lines.Line2D at 0x7fc897666cb0>]"
      ]
     },
     "execution_count": 29,
     "metadata": {},
     "output_type": "execute_result"
    },
    {
     "data": {
      "image/png": "[encoded data removed]",
      "text/plain": [
       "<Figure size 640x480 with 1 Axes>"
      ]
     },
     "metadata": {},
     "output_type": "display_data"
    }
   ],
   "source": [
    "plt.plot(np.unique(energies.argmax(axis=1), return_counts=True)[1])"
   ]
  },
  {
   "cell_type": "code",
   "execution_count": 30,
   "metadata": {},
   "outputs": [
    {
     "data": {
      "text/plain": [
       "[<matplotlib.lines.Line2D at 0x7fc89c39a8c0>]"
      ]
     },
     "execution_count": 30,
     "metadata": {},
     "output_type": "execute_result"
    },
    {
     "data": {
      "image/png": "[encoded data removed]",
      "text/plain": [
       "<Figure size 640x480 with 1 Axes>"
      ]
     },
     "metadata": {},
     "output_type": "display_data"
    }
   ],
   "source": [
    "traj = dataset['rxn10000']\n",
    "\n",
    "plt.plot([frame['wB97x_6-31G(d).atomization_energy'] for frame in traj])\n"
   ]
  }
 ],
 "metadata": {
  "kernelspec": {
   "display_name": "oa_reactdiff",
   "language": "python",
   "name": "python3"
  },
  "language_info": {
   "codemirror_mode": {
    "name": "ipython",
    "version": 3
   },
   "file_extension": ".py",
   "mimetype": "text/x-python",
   "name": "python",
   "nbconvert_exporter": "python",
   "pygments_lexer": "ipython3",
   "version": "3.10.4"
  }
 },
 "nbformat": 4,
 "nbformat_minor": 2
}
